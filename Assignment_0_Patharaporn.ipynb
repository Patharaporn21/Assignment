{
  "nbformat": 4,
  "nbformat_minor": 0,
  "metadata": {
    "colab": {
      "provenance": [],
      "include_colab_link": true
    },
    "kernelspec": {
      "name": "python3",
      "display_name": "Python 3"
    },
    "language_info": {
      "name": "python"
    }
  },
  "cells": [
    {
      "cell_type": "markdown",
      "metadata": {
        "id": "view-in-github",
        "colab_type": "text"
      },
      "source": [
        "<a href=\"https://colab.research.google.com/github/Patharaporn21/Assignment/blob/main/Assignment_0_Patharaporn.ipynb\" target=\"_parent\"><img src=\"https://colab.research.google.com/assets/colab-badge.svg\" alt=\"Open In Colab\"/></a>"
      ]
    },
    {
      "cell_type": "markdown",
      "source": [
        "# **ข้อที่ 1**"
      ],
      "metadata": {
        "id": "OThJVITCbwmv"
      }
    },
    {
      "cell_type": "code",
      "source": [
        "from collections import Counter"
      ],
      "metadata": {
        "id": "6VqZOoVmZvi-"
      },
      "execution_count": 1,
      "outputs": []
    },
    {
      "cell_type": "code",
      "execution_count": 2,
      "metadata": {
        "colab": {
          "base_uri": "https://localhost:8080/"
        },
        "id": "7KH86wd3X3tz",
        "outputId": "347c1c88-b54d-4723-f42f-66e1141c8a79"
      },
      "outputs": [
        {
          "output_type": "stream",
          "name": "stdout",
          "text": [
            "Counter({1: 2, 2: 1})\n"
          ]
        }
      ],
      "source": [
        "def count_runs(bernoulli_trials):\n",
        "    run_counts = Counter()\n",
        "    run_length = 0\n",
        "\n",
        "    for trial in bernoulli_trials: #Iterating through Bernoulli Trials:\n",
        "        if trial == 1:\n",
        "            run_length += 1\n",
        "        else:\n",
        "            if run_length > 0:\n",
        "                run_counts[run_length] += 1\n",
        "            run_length = 0\n",
        "\n",
        "    if run_length > 0: #หลังจากวนรอบจะมีการตรวจสอบเพิ่มเติม  the case where the last run extends to the end of the list.\n",
        "        run_counts[run_length] += 1\n",
        "\n",
        "    return run_counts\n",
        "\n",
        "print(count_runs([0, 1, 0, 1, 1, 0, 0, 0, 0, 0, 1,]))"
      ]
    },
    {
      "cell_type": "code",
      "source": [
        "import numpy as np\n",
        "from collections import Counter\n",
        "\n",
        "def count_runs(sequence):\n",
        "    counts = {}\n",
        "    current_run_length = 1\n",
        "\n",
        "    for i in range(1, len(sequence)):\n",
        "        if sequence[i] == sequence[i-1]:\n",
        "            current_run_length += 1\n",
        "        else:\n",
        "            if current_run_length in counts:\n",
        "                counts[current_run_length] += 1\n",
        "            else:\n",
        "                counts[current_run_length] = 1\n",
        "            current_run_length = 1\n",
        "\n",
        "    # Add the last run\n",
        "    if current_run_length in counts:\n",
        "        counts[current_run_length] += 1\n",
        "    else:\n",
        "        counts[current_run_length] = 1\n",
        "\n",
        "    return counts\n",
        "\n",
        "def expected_count_runs(p, n, num_simulations):\n",
        "    counts = Counter()\n",
        "\n",
        "    for _ in range(num_simulations):\n",
        "        sequence = np.random.randint(0, 2, n)\n",
        "        current_counts = count_runs(sequence)\n",
        "\n",
        "        for key in current_counts.keys():\n",
        "            counts[key] += current_counts[key]\n",
        "\n",
        "    return counts\n",
        "\n",
        "sequence = np.random.randint(0, 2, 1000000)\n",
        "expected_counts = expected_count_runs(0.5, len(sequence), 1000)\n",
        "print(expected_counts)"
      ],
      "metadata": {
        "colab": {
          "base_uri": "https://localhost:8080/"
        },
        "id": "JQmmCz94bO3h",
        "outputId": "f1596f09-8f1d-4807-f3cb-b3fe7b72c41d"
      },
      "execution_count": 3,
      "outputs": [
        {
          "output_type": "stream",
          "name": "stdout",
          "text": [
            "Counter({1: 250002905, 2: 124987953, 3: 62504991, 4: 31256751, 5: 15624106, 6: 7810794, 7: 3907484, 8: 1952636, 9: 975368, 10: 488818, 11: 243691, 12: 121971, 13: 60872, 14: 30694, 15: 15114, 16: 7776, 17: 3886, 18: 1891, 19: 947, 20: 451, 21: 218, 22: 130, 23: 68, 24: 33, 25: 17, 26: 3, 27: 3, 28: 1})\n"
          ]
        }
      ]
    },
    {
      "cell_type": "markdown",
      "source": [
        "# **ข้อที่ 2**"
      ],
      "metadata": {
        "id": "f4GT7L_9b8vd"
      }
    },
    {
      "cell_type": "code",
      "source": [
        "import numpy as np\n",
        "import random\n",
        "\n",
        "def run_simulation(n, k, p, expts):\n",
        "    count = 0\n",
        "    for _ in range(expts):\n",
        "        runs = simulate_runs(n, k, p)\n",
        "        if runs:\n",
        "            count += 1\n",
        "    return count / expts\n",
        "\n",
        "def simulate_runs(n, k, p):\n",
        "    run = 0\n",
        "    runs = []\n",
        "    for i in range(n):\n",
        "        coin = random.random()\n",
        "        if coin <= p:\n",
        "            run += 1\n",
        "        else:\n",
        "            if run >= k:\n",
        "                runs.append(run)\n",
        "            run = 0\n",
        "    if run >= k:\n",
        "        runs.append(run)\n",
        "    return runs\n",
        "\n",
        "n = 100\n",
        "k = 5\n",
        "p = 0.5\n",
        "expts = 100000\n",
        "run_prob = run_simulation(n, k, p, expts)\n",
        "print(\"Probability of at least one run of length 5 or more when n=100 and p=0.5: \", run_prob)\n",
        "\n",
        "k = 7\n",
        "p = 0.7\n",
        "run_prob = run_simulation(n, k, p, expts)\n",
        "print(\"Probability of at least one run of length 7 or more when n=100 and p=0.7: \", run_prob)"
      ],
      "metadata": {
        "colab": {
          "base_uri": "https://localhost:8080/"
        },
        "id": "kOzxv6L9cCWw",
        "outputId": "ae0d1747-c400-419e-c4e0-e70b77aafcbe"
      },
      "execution_count": 4,
      "outputs": [
        {
          "output_type": "stream",
          "name": "stdout",
          "text": [
            "Probability of at least one run of length 5 or more when n=100 and p=0.5:  0.81067\n",
            "Probability of at least one run of length 7 or more when n=100 and p=0.7:  0.95033\n"
          ]
        }
      ]
    }
  ]
}